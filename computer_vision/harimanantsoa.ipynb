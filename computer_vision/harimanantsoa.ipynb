{
 "cells": [
  {
   "cell_type": "markdown",
   "id": "a8E7De68YVps",
   "metadata": {
    "id": "a8E7De68YVps"
   },
   "source": [
    "# Instructions\n",
    "\n",
    "Travail individuel à réaliser par chaque étudiant. Chaque fichier devra ensuite être rassemblé par groupe dans le premier dépôt Git de l'année universitaire, dans un nouveau dossier nommé <code>Computer Vision</code>.\n",
    "\n",
    "Le nom du fichier doit être le prénom de l'étudiant écrit en minuscules. Par exemple, si l'étudiant s'appelle BOB Toto, le fichier doit être nommé toto.ipynb."
   ]
  },
  {
   "cell_type": "markdown",
   "id": "K6EHkj63XsUy",
   "metadata": {
    "id": "K6EHkj63XsUy"
   },
   "source": [
    "# Détails de l'étudiant\n",
    "### Nom(s)  :ANDRIAMAROAHINA \n",
    "### Prénom(s) :Harimanantsoa\n",
    "### Classe :ISAIA 4"
   ]
  },
  {
   "cell_type": "markdown",
   "id": "intro",
   "metadata": {
    "id": "intro"
   },
   "source": [
    "# Vision par Ordinateur avec Keras/TensorFlow : Un Notebook Pratique et Conceptuel\n",
    "\n",
    "Ce notebook a pour objectif de vous guider pas à pas dans la création et l'analyse d'un modèle de réseau de neurones convolutif (CNN) appliqué au jeu de données CIFAR-10. Chaque étape est accompagnée d'explications pratiques ainsi que de questions conceptuelles pour renforcer votre compréhension des enjeux théoriques et pratiques de la vision par ordinateur."
   ]
  },
  {
   "cell_type": "markdown",
   "id": "etape1",
   "metadata": {
    "id": "etape1"
   },
   "source": [
    "## Étape 1 : Introduction et Configuration de l'Environnement\n",
    "\n",
    "Dans cette étape, nous allons configurer notre environnement de travail et importer les bibliothèques indispensables pour le deep learning et la manipulation de données. Nous vérifions également la version de TensorFlow pour nous assurer que tout fonctionne correctement.\n",
    "\n",
    "### Explication Pratique\n",
    "La bonne configuration de l'environnement est cruciale pour garantir la reproductibilité et la stabilité de vos expériences. En particulier, les versions des bibliothèques peuvent influencer le comportement du modèle et sa performance, d'où l'importance de vérifier et documenter ces versions dès le début."
   ]
  },
  {
   "cell_type": "code",
   "execution_count": 1,
   "id": "code-etape1",
   "metadata": {
    "colab": {
     "base_uri": "https://localhost:8080/"
    },
    "id": "code-etape1",
    "outputId": "bb1339f0-25eb-4422-af7b-15b5088ed18a"
   },
   "outputs": [
    {
     "name": "stdout",
     "output_type": "stream",
     "text": [
      "Version de TensorFlow : 2.18.0\n"
     ]
    }
   ],
   "source": [
    "# Importer les bibliothèques nécessaires\n",
    "import tensorflow as tf\n",
    "from tensorflow import keras\n",
    "from tensorflow.keras import layers, models\n",
    "import numpy as np\n",
    "import matplotlib.pyplot as plt\n",
    "\n",
    "print('Version de TensorFlow :', tf.__version__)"
   ]
  },
  {
   "cell_type": "markdown",
   "id": "question1",
   "metadata": {
    "id": "question1"
   },
   "source": [
    "### Question  1\n",
    "\n",
    "**Q1 :** Pourquoi est-il essentiel de vérifier la configuration de l'environnement (versions des bibliothèques, dépendances, etc.) avant de développer un modèle de deep learning ?\n",
    "\n",
    "_Répondez dans une nouvelle cellule Markdown._"
   ]
  },
  {
   "cell_type": "markdown",
   "id": "d0d7c6a5-f13d-4177-9025-73358c448fb0",
   "metadata": {},
   "source": [
    "Reponse1: Il est essentiel de vérifier la configuration de l’environnement avant de développer un modèle de deep learning pour garantir la compatibilité des bibliothèques et des dépendances. Des versions incompatibles de frameworks, comme TensorFlow ou PyTorch, avec CUDA ou cuDNN, peuvent provoquer des erreurs ou réduire les performances du modèle. Aussi, une configuration correcte facilite le déploiement du modèle, car elle permet de maintenir la même version des bibliothèques en production. En résumé, vérifier l’environnement permet de s’assurer que tout fonctionne correctement et efficacement, tout en garantissant des résultats fiables et reproductibles."
   ]
  },
  {
   "cell_type": "markdown",
   "id": "etape2",
   "metadata": {
    "id": "etape2"
   },
   "source": [
    "## Étape 2 : Chargement et Prétraitement des Données\n",
    "\n",
    "Nous allons charger le jeu de données CIFAR-10, composé de 60 000 images couleur réparties en 10 classes. Dans cette étape, nous normalisons les valeurs des pixels afin qu'elles soient comprises entre 0 et 1, et nous transformons les étiquettes en format one-hot pour faciliter le processus de classification.\n",
    "\n",
    "### Explication Pratique\n",
    "La normalisation aide à stabiliser et accélérer l'entraînement du modèle en assurant que les valeurs d'entrée ont une échelle comparable. Le one-hot encoding évite que le modèle interprète les étiquettes comme des valeurs numériques ordonnées, ce qui est essentiel pour les problèmes de classification multi-classes."
   ]
  },
  {
   "cell_type": "code",
   "execution_count": null,
   "id": "code-etape2",
   "metadata": {
    "id": "code-etape2"
   },
   "outputs": [],
   "source": [
    "# Charger le jeu de données CIFAR-10\n",
    "(x_train, y_train), (x_test, y_test) = keras.datasets.cifar10.load_data()\n",
    "\n",
    "# Normaliser les valeurs des pixels (entre 0 et 1)\n",
    "x_train = x_train.astype('float32') / 255.0\n",
    "x_test = x_test.astype('float32') / 255.0\n",
    "\n",
    "# Convertir les vecteurs de classes en matrices binaires (one-hot encoding)\n",
    "num_classes = 10\n",
    "y_train = keras.utils.to_categorical(y_train, num_classes)\n",
    "y_test = keras.utils.to_categorical(y_test, num_classes)\n",
    "\n",
    "print(\"Forme des données d'entrainement :\", x_train.shape)\n",
    "print(\"Forme des étiquettes d'entraînement :\", y_train.shape)"
   ]
  },
  {
   "cell_type": "markdown",
   "id": "question2",
   "metadata": {
    "id": "question2"
   },
   "source": [
    "### Question 2\n",
    "\n",
    "**Q2 :** Expliquez comment la normalisation des pixels et le one-hot encoding des étiquettes contribuent chacun à la stabilité et à l'efficacité de l'entraînement d'un modèle de deep learning.\n",
    "\n",
    "_Répondez dans une nouvelle cellule Markdown._"
   ]
  },
  {
   "cell_type": "markdown",
   "id": "d9d860b2-6408-414b-9309-01c845710a1a",
   "metadata": {},
   "source": [
    "Reponse 2: La normalisation des pixels aide à accélérer et stabiliser l'entraînement en assurant des entrées uniformes, tandis que le one-hot encoding des étiquettes rend le traitement des classes plus adapté à la nature discrète des tâches de classification. Ces deux techniques permettent de rendre l'apprentissage plus rapide, plus stable et plus précis."
   ]
  },
  {
   "cell_type": "markdown",
   "id": "etape3",
   "metadata": {
    "id": "etape3"
   },
   "source": [
    "## Étape 3 : Exploration et Visualisation des Données\n",
    "\n",
    "Avant de construire le modèle, il est important d'explorer et de visualiser les données. Nous affichons ainsi un échantillon d'images du jeu de données pour mieux comprendre leur contenu et la distribution des classes.\n",
    "\n",
    "### Explication Pratique\n",
    "La visualisation des données permet d'identifier d'éventuelles anomalies, comme des classes sous-représentées ou des images bruitées, et de décider si des techniques d'augmentation de données ou de prétraitement supplémentaires sont nécessaires."
   ]
  },
  {
   "cell_type": "code",
   "execution_count": null,
   "id": "code-etape3",
   "metadata": {
    "id": "code-etape3"
   },
   "outputs": [],
   "source": [
    "# Afficher quelques images du jeu de données d'entraînement\n",
    "noms_classes = ['avion', 'automobile', 'oiseau', 'chat', 'cerf',\n",
    "               'chien', 'grenouille', 'cheval', 'navire', 'camion']\n",
    "\n",
    "plt.figure(figsize=(10,10))\n",
    "for i in range(25):\n",
    "    plt.subplot(5,5,i+1)\n",
    "    plt.xticks([])\n",
    "    plt.yticks([])\n",
    "    plt.grid(False)\n",
    "    plt.imshow(x_train[i])\n",
    "    plt.xlabel(noms_classes[y_train[i].argmax()])\n",
    "plt.show()"
   ]
  },
  {
   "cell_type": "markdown",
   "id": "question3",
   "metadata": {
    "id": "question3"
   },
   "source": [
    "### Question 3\n",
    "\n",
    "**Q3 :** D'après la visualisation, discutez de l'impact potentiel d'une distribution inégale des classes ou de la présence d'images de mauvaise qualité sur la performance d'un modèle de classification. Quelles stratégies pourraient être mises en place pour pallier ces problèmes ?\n",
    "\n",
    "_Répondez dans une nouvelle cellule Markdown._"
   ]
  },
  {
   "cell_type": "markdown",
   "id": "e0ea1cdf-219b-43f1-9ea6-4431efe15b44",
   "metadata": {},
   "source": [
    "Reponse 3: Une distribution inégale des classes peut amener le modèle à privilégier les classes majoritaires, négligeant les classes minoritaires. Cela peut affecter les performances, notamment sur des métriques comme la précision globale. Pour pallier ce problème, on peut utiliser des techniques comme le rééchantillonnage (oversampling ou undersampling), l'augmentation de données et la pondération des classes dans la fonction de perte.\n",
    "Les images de mauvaise qualité (floues, bruitées) nuisent à l'entraînement, ce qui peut entraîner de mauvaises généralisations. Pour y remédier, on peut appliquer des techniques de prétraitement (nettoyage, suppression du bruit), filtrer les images de mauvaise qualité et augmenter les données pour créer des versions améliorées des images.\n",
    "En somme, pour améliorer la performance du modèle, il est essentiel de traiter l'équilibre des classes et la qualité des données avant l'entraînement."
   ]
  },
  {
   "cell_type": "markdown",
   "id": "etape4",
   "metadata": {
    "id": "etape4"
   },
   "source": [
    "## Étape 4 : Construction du Modèle CNN\n",
    "\n",
    "Nous allons construire un réseau de neurones convolutif (CNN) pour extraire des caractéristiques hiérarchiques des images. Ce modèle se compose de plusieurs blocs de convolution suivis de couches de pooling et se termine par des couches entièrement connectées pour la classification.\n",
    "\n",
    "### Explication Pratique\n",
    "Les couches de convolution permettent au modèle de détecter des motifs locaux (comme les contours ou les textures), tandis que les couches de pooling réduisent la dimensionnalité, ce qui diminue la charge computationnelle et aide à rendre le modèle plus robuste aux translations. Le dropout, quant à lui, est une technique de régularisation qui aide à prévenir le surapprentissage en désactivant aléatoirement certains neurones pendant l'entraînement."
   ]
  },
  {
   "cell_type": "code",
   "execution_count": null,
   "id": "code-etape4",
   "metadata": {
    "id": "code-etape4"
   },
   "outputs": [],
   "source": [
    "# Construire le modèle CNN\n",
    "model = models.Sequential()\n",
    "\n",
    "# Bloc de convolution 1 : 32 filtres, taille 3x3, activation ReLU\n",
    "model.add(layers.Conv2D(32, (3, 3), activation='relu', input_shape=x_train.shape[1:]))\n",
    "model.add(layers.MaxPooling2D((2, 2)))\n",
    "\n",
    "# Bloc de convolution 2 : 64 filtres\n",
    "model.add(layers.Conv2D(64, (3, 3), activation='relu'))\n",
    "model.add(layers.MaxPooling2D((2, 2)))\n",
    "\n",
    "# Bloc de convolution 3 : 64 filtres\n",
    "model.add(layers.Conv2D(64, (3, 3), activation='relu'))\n",
    "\n",
    "# Aplatir les sorties et ajouter des couches entièrement connectées\n",
    "model.add(layers.Flatten())\n",
    "model.add(layers.Dense(64, activation='relu'))\n",
    "model.add(layers.Dropout(0.5))\n",
    "model.add(layers.Dense(num_classes, activation='softmax'))\n",
    "\n",
    "model.summary()"
   ]
  },
  {
   "cell_type": "markdown",
   "id": "question4",
   "metadata": {
    "id": "question4"
   },
   "source": [
    "### Question 4\n",
    "\n",
    "**Q4 :** Décrivez le rôle de chaque composant du CNN (couches de convolution, pooling et dropout) et expliquez comment ils interagissent pour permettre au modèle d'extraire des caractéristiques pertinentes des images.\n",
    "\n",
    "_Répondez dans une nouvelle cellule Markdown._"
   ]
  },
  {
   "cell_type": "markdown",
   "id": "2b863179-5762-4b02-80e2-2f9bf18b647c",
   "metadata": {},
   "source": [
    "Reponse 4 : Ces composants jouent un rôle crucial dans le fonctionnement d'un modèle CNN :\n",
    "\n",
    "Couches de Convolution (Conv2D) : Elles permettent d'extraire des caractéristiques locales des images, comme les bords, textures et motifs. Chaque filtre apprend à détecter des motifs spécifiques dans l'image, ce qui aide à construire une représentation de plus en plus complexe de l'image à mesure que l'on avance dans le réseau.\n",
    "\n",
    "Couches de Pooling (MaxPooling2D) : Elles réduisent la taille des cartes de caractéristiques issues des convolutions, ce qui diminue la charge computationnelle et aide à extraire les caractéristiques les plus importantes. Le pooling aide également à rendre le modèle plus robuste aux petites variations ou translations de l'image.\n",
    "\n",
    "Couches de Dropout : Elles sont utilisées pour prévenir le surapprentissage en \"éteignant\" aléatoirement certains neurones pendant l'entraînement. Cela empêche le modèle de devenir trop dépendant de certains neurones et améliore sa capacité à généraliser sur des données qu'il n'a pas vues auparavant.\n",
    "\n",
    "Ces trois composants interagissent pour permettre au modèle d'apprendre des représentations significatives des images tout en évitant le surapprentissage et en réduisant la complexité computationnelle."
   ]
  },
  {
   "cell_type": "markdown",
   "id": "etape5",
   "metadata": {
    "id": "etape5"
   },
   "source": [
    "## Étape 5 : Compilation et Entraînement du Modèle\n",
    "\n",
    "Nous allons maintenant compiler le modèle en choisissant un optimiseur, une fonction de perte ainsi que des métriques d'évaluation. Ensuite, nous entraînons le modèle sur les données d'entraînement en réservant une partie des données pour la validation.\n",
    "\n",
    "### Explication Pratique\n",
    "La compilation configure le processus d'apprentissage, notamment la manière dont les poids seront ajustés via la rétropropagation. Le choix de l'optimiseur (ici, Adam) et la définition des hyperparamètres (comme le taux d'apprentissage et la taille du batch) influencent grandement la vitesse de convergence et la qualité finale du modèle."
   ]
  },
  {
   "cell_type": "code",
   "execution_count": null,
   "id": "code-etape5",
   "metadata": {
    "id": "code-etape5"
   },
   "outputs": [],
   "source": [
    "# Compiler le modèle\n",
    "model.compile(optimizer='adam',\n",
    "              loss='categorical_crossentropy',\n",
    "              metrics=['accuracy'])\n",
    "\n",
    "# Entraîner le modèle\n",
    "history = model.fit(x_train, y_train, epochs=10, batch_size=64,\n",
    "                    validation_split=0.2)"
   ]
  },
  {
   "cell_type": "markdown",
   "id": "question5",
   "metadata": {
    "id": "question5"
   },
   "source": [
    "### Question 5\n",
    "\n",
    "**Q5 :** Quels sont les effets d'un choix inadapté d'hyperparamètres (comme le taux d'apprentissage ou la taille du batch) sur l'entraînement d'un réseau de neurones ? Expliquez en quoi un optimiseur bien configuré est crucial pour la convergence du modèle.\n",
    "\n",
    "_Répondez dans une nouvelle cellule Markdown._"
   ]
  },
  {
   "cell_type": "markdown",
   "id": "34032b73-4ccd-4c8f-a425-1171ddd71905",
   "metadata": {},
   "source": [
    "Reponse 5: Le choix des hyperparamètres, comme le taux d'apprentissage et la taille du batch, affecte fortement l'entraînement d'un réseau de neurones :\n",
    "Taux d'apprentissage trop élevé : L'entraînement devient instable, le modèle peut ne pas converger.\n",
    "Taux d'apprentissage trop faible : L'entraînement devient très lent et peut se bloquer dans un minimum local.\n",
    "Taille du batch trop grande : L'entraînement est plus lent et nécessite plus de mémoire.\n",
    "Taille du batch trop petite : L'entraînement devient bruyant et moins précis.\n",
    "Rôle d'un Optimiseur Bien Configuré:\n",
    "Un optimiseur ajuste automatiquement les taux d'apprentissage, ce qui permet une convergence rapide et stable. Il aide à éviter les problèmes de gradients explosifs ou vanissants, rendant l'entraînement plus efficace."
   ]
  },
  {
   "cell_type": "markdown",
   "id": "etape6",
   "metadata": {
    "id": "etape6"
   },
   "source": [
    "## Étape 6 : Évaluation du Modèle\n",
    "\n",
    "Après l'entraînement, nous évaluons notre modèle sur le jeu de test afin de mesurer sa capacité de généralisation sur des données inédites. Les métriques telles que la perte et la précision nous aident à quantifier la performance globale du modèle.\n",
    "\n",
    "### Explication Pratique\n",
    "L'évaluation sur un jeu de test indépendant permet de détecter un éventuel surapprentissage (overfitting). Si le modèle présente une bonne performance sur l'entraînement mais une performance médiocre sur le test, cela indique qu'il n'a pas suffisamment généralisé, ce qui peut nécessiter des ajustements comme plus de régularisation ou des techniques d'augmentation de données."
   ]
  },
  {
   "cell_type": "code",
   "execution_count": null,
   "id": "code-etape6",
   "metadata": {
    "id": "code-etape6"
   },
   "outputs": [],
   "source": [
    "# Évaluer le modèle sur le jeu de test\n",
    "test_loss, test_acc = model.evaluate(x_test, y_test, verbose=2)\n",
    "print('Précision sur le jeu de test :', test_acc)"
   ]
  },
  {
   "cell_type": "markdown",
   "id": "question6",
   "metadata": {
    "id": "question6"
   },
   "source": [
    "### Question  6\n",
    "\n",
    "**Q6 :** Que nous indiquent la perte et la précision obtenues lors de l'évaluation sur le jeu de test ? Quels ajustements pourriez-vous envisager si vous observez un écart significatif entre les performances sur l'entraînement et le test ?\n",
    "\n",
    "_Répondez dans une nouvelle cellule Markdown._"
   ]
  },
  {
   "cell_type": "markdown",
   "id": "2eeef570-c404-472b-851c-5e4701512549",
   "metadata": {},
   "source": [
    "Reponse 6 : Perte et Précision lors de l'Évaluation sur le Jeu de Test\n",
    "La perte et la précision sont des mesures importantes pour évaluer la performance de notre modèle :\n",
    "\n",
    "Perte : Elle nous montre à quel point le modèle se trompe dans ses prédictions. Une perte faible signifie que le modèle est proche des vraies valeurs. Si la perte est élevée sur le jeu de test, cela veut dire que le modèle a du mal à généraliser.\n",
    "\n",
    "Précision: Mesure le nombre de bonnes prédictions par rapport à l’ensemble des prédictions. Une précision élevée signifie que le modèle fait souvent les bonnes prédictions.\n",
    "\n",
    "Ajustements en cas de Différence entre Entraînement et Test\n",
    "Si on remarque un écart important entre la performance du modèle sur les données d'entraînement et sur celles du test, c’est probablement un signe de surapprentissage. Voici ce qu'on pourrait faire pour améliorer le modèle :\n",
    "\n",
    "Régularisation : Ajouter des techniques comme le dropout ou la régularisation L2 pour empêcher le modèle de trop s'ajuster aux données d'entraînement.\n",
    "Augmentation de données : On pourrait utiliser l'augmentation de données pour générer plus d'exemples d'entraînement, ce qui aiderait le modèle à mieux généraliser.\n",
    "Early stopping : On pourrait arrêter l'entraînement dès que les performances sur le jeu de validation commencent à se dégrader, même si les performances sur l'entraînement continuent à s'améliorer.\n",
    "Simplification du modèle : Si le modèle est trop complexe, on pourrait essayer de réduire le nombre de couches ou de neurones pour éviter qu’il n’apprenne des détails non pertinents.\n",
    "\n"
   ]
  },
  {
   "cell_type": "markdown",
   "id": "etape7",
   "metadata": {
    "id": "etape7"
   },
   "source": [
    "## Étape 7 : Prédictions et Visualisation des Résultats\n",
    "\n",
    "Nous allons utiliser le modèle entraîné pour prédire les classes des images du jeu de test. La visualisation des résultats nous permet de comparer les étiquettes prédites aux étiquettes réelles et d'identifier les erreurs potentielles.\n",
    "\n",
    "### Explication Pratique\n",
    "La visualisation aide à comprendre qualitativement comment le modèle se comporte face à différentes images. Cela permet d'identifier si certaines classes sont systématiquement mal prédites ou si le modèle confond certaines catégories, ouvrant ainsi la voie à des améliorations ultérieures (par exemple, via l'augmentation de données ou des ajustements de l'architecture)."
   ]
  },
  {
   "cell_type": "code",
   "execution_count": null,
   "id": "code-etape7",
   "metadata": {
    "id": "code-etape7"
   },
   "outputs": [],
   "source": [
    "# Faire des prédictions sur le jeu de test\n",
    "predictions = model.predict(x_test)\n",
    "\n",
    "# Fonction pour afficher l'image avec les étiquettes prédites et réelles\n",
    "def afficher_image(i, predictions_array, etiquette_vraie, img):\n",
    "    plt.grid(False)\n",
    "    plt.xticks([])\n",
    "    plt.yticks([])\n",
    "    plt.imshow(img, cmap=plt.cm.binary)\n",
    "\n",
    "    etiquette_predite = np.argmax(predictions_array)\n",
    "    etiquette_vraie = np.argmax(etiquette_vraie)\n",
    "\n",
    "    couleur = 'blue' if etiquette_predite == etiquette_vraie else 'red'\n",
    "    plt.xlabel(f\"Prédit : {noms_classes[etiquette_predite]} (Vrai : {noms_classes[etiquette_vraie]})\", color=couleur)\n",
    "\n",
    "# Afficher quelques images de test avec leurs prédictions\n",
    "nb_lignes = 5\n",
    "nb_colonnes = 3\n",
    "nb_images = nb_lignes * nb_colonnes\n",
    "plt.figure(figsize=(2 * nb_colonnes, 2 * nb_lignes))\n",
    "for i in range(nb_images):\n",
    "    plt.subplot(nb_lignes, nb_colonnes, i+1)\n",
    "    afficher_image(i, predictions[i], y_test[i], x_test[i])\n",
    "plt.tight_layout()\n",
    "plt.show()"
   ]
  },
  {
   "cell_type": "markdown",
   "id": "2980200c-1cdc-43e5-96bf-128b8b452ffb",
   "metadata": {
    "id": "question7"
   },
   "source": [
    "### Question 7\n",
    "\n",
    "**Q7 :** Après avoir examiné les prédictions, identifiez et discutez des stratégies conceptuelles (par exemple, l'augmentation de données, le raffinement de l'architecture ou l'ajustement des hyperparamètres) qui pourraient améliorer la robustesse et la précision du modèle.\n",
    "\n",
    "_Répondez dans une nouvelle cellule Markdown._"
   ]
  },
  {
   "cell_type": "markdown",
   "id": "8d8e40d4-5c72-4339-b96d-698f154dd89f",
   "metadata": {},
   "source": [
    "Reponse 7: Après avoir utilisé le modèle pour prédire les classes des images du jeu de test, il est utile de visualiser les résultats pour comparer les prédictions aux étiquettes réelles et repérer d’éventuelles erreurs.\n",
    "\n",
    "Stratégies d'amélioration :\n",
    "Augmentation des données : Utiliser des transformations comme la rotation ou le zoom pour rendre le modèle plus robuste.\n",
    "\n",
    "Améliorer l'architecture : Ajouter des couches ou essayer des modèles plus complexes si certaines classes sont souvent mal prédites.\n",
    "\n",
    "Ajuster les hyperparamètres : Modifier le taux d'apprentissage ou la taille du batch pour mieux entraîner le modèle.\n",
    "\n",
    "Vérification des données : Vérifier les données pour repérer des erreurs d'étiquetage ou des images bruitées."
   ]
  },
  {
   "cell_type": "markdown",
   "id": "etape8",
   "metadata": {
    "id": "etape8"
   },
   "source": [
    "## Étape 8 : Conclusion et Travaux Futurs\n",
    "\n",
    "Dans ce notebook, nous avons :\n",
    "- Configuré l'environnement et importé les bibliothèques nécessaires\n",
    "- Chargé et prétraité le jeu de données CIFAR-10\n",
    "- Exploré et visualisé les données\n",
    "- Construit, compilé et entraîné un modèle CNN\n",
    "- Évalué le modèle et visualisé ses prédictions\n",
    "\n",
    "### Explication Pratique\n",
    "Ce pipeline offre une approche complète, à la fois pratique et conceptuelle, pour la mise en œuvre d'un modèle de vision par ordinateur. Pour aller plus loin, vous pouvez explorer des architectures plus complexes, appliquer des techniques d'augmentation de données ou encore expérimenter avec différents optimisateurs afin de mieux comprendre l'impact de chacun sur la performance du modèle."
   ]
  },
  {
   "cell_type": "code",
   "execution_count": null,
   "id": "105d0ff0-f75a-4a41-90c4-8a935eb6b325",
   "metadata": {},
   "outputs": [],
   "source": []
  }
 ],
 "metadata": {
  "colab": {
   "provenance": []
  },
  "kernelspec": {
   "display_name": "Python [conda env:base] *",
   "language": "python",
   "name": "conda-base-py"
  },
  "language_info": {
   "codemirror_mode": {
    "name": "ipython",
    "version": 3
   },
   "file_extension": ".py",
   "mimetype": "text/x-python",
   "name": "python",
   "nbconvert_exporter": "python",
   "pygments_lexer": "ipython3",
   "version": "3.12.3"
  }
 },
 "nbformat": 4,
 "nbformat_minor": 5
}
