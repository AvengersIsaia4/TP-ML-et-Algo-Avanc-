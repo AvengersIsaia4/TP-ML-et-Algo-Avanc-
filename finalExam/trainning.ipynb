{
 "cells": [
  {
   "cell_type": "code",
   "execution_count": 1,
   "id": "6a5e8fac-d3cf-434c-a9cd-fa012ac53a10",
   "metadata": {},
   "outputs": [
    {
     "name": "stdout",
     "output_type": "stream",
     "text": [
      "Exemple de données transformées :\n",
      "Plateau original : '         '\n",
      "Plateau vectorisé (X) : [0 0 0 0 0 0 0 0 0]\n",
      "Coup original : '0,0'\n",
      "Coup encodé (y) : 0\n"
     ]
    }
   ],
   "source": [
    "import pandas as pd\n",
    "from sklearn.model_selection import train_test_split\n",
    "from sklearn.preprocessing import LabelEncoder\n",
    "import numpy as np\n",
    "\n",
    "# 1. Charger le dataset\n",
    "df = pd.read_csv('tictactoe_dataset.csv')\n",
    "\n",
    "# 2. Fonction pour convertir le plateau en vecteur numérique\n",
    "def board_to_vector(board_str):\n",
    "    mapping = {'X': 1, 'O': -1, ' ': 0}\n",
    "    return [mapping[char] for char in board_str]\n",
    "\n",
    "# Appliquer la conversion à la colonne 'board_state'\n",
    "X = np.array([board_to_vector(board) for board in df['board_state']])\n",
    "\n",
    "# 3. Encoder la colonne 'best_move' (notre cible y)\n",
    "label_encoder = LabelEncoder()\n",
    "y = label_encoder.fit_transform(df['best_move'])\n",
    "\n",
    "print(\"Exemple de données transformées :\")\n",
    "print(f\"Plateau original : '{df['board_state'][0]}'\")\n",
    "print(f\"Plateau vectorisé (X) : {X[0]}\")\n",
    "print(f\"Coup original : '{df['best_move'][0]}'\")\n",
    "print(f\"Coup encodé (y) : {y[0]}\")"
   ]
  },
  {
   "cell_type": "code",
   "execution_count": 3,
   "id": "9917af98-ba7a-4571-b835-0b9452a73d97",
   "metadata": {},
   "outputs": [
    {
     "name": "stdout",
     "output_type": "stream",
     "text": [
      "\n",
      "Taille de l'ensemble d'entraînement : 3616 échantillons\n",
      "Taille de l'ensemble de test : 904 échantillons\n"
     ]
    }
   ],
   "source": [
    "# Diviser les données : 80% pour l'entraînement, 20% pour le test\n",
    "X_train, X_test, y_train, y_test = train_test_split(\n",
    "    X, y, test_size=0.2, random_state=42, stratify=y\n",
    ")\n",
    "\n",
    "print(f\"\\nTaille de l'ensemble d'entraînement : {X_train.shape[0]} échantillons\")\n",
    "print(f\"Taille de l'ensemble de test : {X_test.shape[0]} échantillons\")"
   ]
  },
  {
   "cell_type": "code",
   "execution_count": 5,
   "id": "c492aa87-a482-43c0-ad88-fcb4c711200a",
   "metadata": {},
   "outputs": [
    {
     "name": "stdout",
     "output_type": "stream",
     "text": [
      "\n",
      "Le modèle KNN a été entraîné avec succès ! ✅\n"
     ]
    }
   ],
   "source": [
    "from sklearn.neighbors import KNeighborsClassifier\n",
    "\n",
    "# Créer le modèle KNN\n",
    "# On choisit k=5 voisins\n",
    "knn = KNeighborsClassifier(n_neighbors=5)\n",
    "\n",
    "# Entraîner le modèle avec les données d'entraînement\n",
    "knn.fit(X_train, y_train)\n",
    "\n",
    "print(\"\\nLe modèle KNN a été entraîné avec succès ! ✅\")"
   ]
  },
  {
   "cell_type": "code",
   "execution_count": 7,
   "id": "6cc8d260-f7ac-408e-9663-c198d60ffbf9",
   "metadata": {},
   "outputs": [
    {
     "name": "stdout",
     "output_type": "stream",
     "text": [
      "\n",
      "Précision du modèle : 0.6825\n",
      "\n",
      "Rapport de Classification :\n",
      "              precision    recall  f1-score   support\n",
      "\n",
      "         0,0       0.68      0.89      0.77       216\n",
      "         0,1       0.58      0.66      0.62       117\n",
      "         0,2       0.70      0.72      0.71       135\n",
      "         1,0       0.63      0.59      0.61        73\n",
      "         1,1       0.74      0.70      0.72       143\n",
      "         1,2       0.67      0.45      0.54        49\n",
      "         2,0       0.74      0.53      0.62        73\n",
      "         2,1       0.67      0.41      0.51        34\n",
      "         2,2       0.77      0.52      0.62        64\n",
      "\n",
      "    accuracy                           0.68       904\n",
      "   macro avg       0.69      0.61      0.63       904\n",
      "weighted avg       0.69      0.68      0.68       904\n",
      "\n"
     ]
    }
   ],
   "source": [
    "from sklearn.metrics import accuracy_score, classification_report\n",
    "\n",
    "# Faire des prédictions sur l'ensemble de test\n",
    "y_pred = knn.predict(X_test)\n",
    "\n",
    "# Calculer la précision (accuracy)\n",
    "accuracy = accuracy_score(y_test, y_pred)\n",
    "print(f\"\\nPrécision du modèle : {accuracy:.4f}\")\n",
    "\n",
    "# Afficher un rapport de classification détaillé\n",
    "print(\"\\nRapport de Classification :\")\n",
    "# On utilise `label_encoder.classes_` pour afficher les vrais noms des coups\n",
    "print(classification_report(y_test, y_pred, target_names=label_encoder.classes_))"
   ]
  },
  {
   "cell_type": "code",
   "execution_count": 9,
   "id": "f4b7816a-b71d-42b3-a631-9a92bace6164",
   "metadata": {},
   "outputs": [
    {
     "name": "stdout",
     "output_type": "stream",
     "text": [
      "\n",
      "Pour le plateau 'X O      ', le meilleur coup prédit est : 0,1\n"
     ]
    }
   ],
   "source": [
    "# Exemple : un nouveau plateau de jeu\n",
    "# X . .\n",
    "# . O .\n",
    "# . . .\n",
    "new_board_str = 'X O      '\n",
    "\n",
    "# 1. On doit le transformer de la même manière que les données d'entraînement\n",
    "new_board_vector = np.array([board_to_vector(new_board_str)])\n",
    "\n",
    "# 2. Faire une prédiction\n",
    "predicted_move_encoded = knn.predict(new_board_vector)\n",
    "\n",
    "# 3. Décoder la prédiction pour la rendre lisible\n",
    "predicted_move = label_encoder.inverse_transform(predicted_move_encoded)\n",
    "\n",
    "print(f\"\\nPour le plateau '{new_board_str}', le meilleur coup prédit est : {predicted_move[0]}\")"
   ]
  },
  {
   "cell_type": "code",
   "execution_count": 11,
   "id": "3e3cde26-f1e6-4046-9483-259ef8107452",
   "metadata": {},
   "outputs": [
    {
     "name": "stdout",
     "output_type": "stream",
     "text": [
      "Modèle KNN et LabelEncoder sauvegardés avec succès. ✅\n"
     ]
    }
   ],
   "source": [
    "import joblib\n",
    "\n",
    "# Sauvegarder le modèle entraîné\n",
    "joblib.dump(knn, 'knn_model.joblib')\n",
    "\n",
    "# Sauvegarder l'encodeur\n",
    "joblib.dump(label_encoder, 'label_encoder.joblib')\n",
    "\n",
    "print(\"Modèle KNN et LabelEncoder sauvegardés avec succès. ✅\")"
   ]
  },
  {
   "cell_type": "code",
   "execution_count": null,
   "id": "b39e3941-89bc-41d5-b9cb-d06627cdc7f9",
   "metadata": {},
   "outputs": [],
   "source": []
  }
 ],
 "metadata": {
  "kernelspec": {
   "display_name": "Python 3 (ipykernel)",
   "language": "python",
   "name": "python3"
  },
  "language_info": {
   "codemirror_mode": {
    "name": "ipython",
    "version": 3
   },
   "file_extension": ".py",
   "mimetype": "text/x-python",
   "name": "python",
   "nbconvert_exporter": "python",
   "pygments_lexer": "ipython3",
   "version": "3.12.3"
  }
 },
 "nbformat": 4,
 "nbformat_minor": 5
}
